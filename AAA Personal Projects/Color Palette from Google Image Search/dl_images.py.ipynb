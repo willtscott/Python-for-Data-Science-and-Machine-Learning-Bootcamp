{
 "cells": [
  {
   "cell_type": "code",
   "execution_count": 1,
   "metadata": {},
   "outputs": [],
   "source": [
    "# import the necessary packages\n",
    "from imutils import paths \n",
    "import argparse\n",
    "import requests\n",
    "import cv2\n",
    "import os"
   ]
  },
  {
   "cell_type": "code",
   "execution_count": 22,
   "metadata": {},
   "outputs": [
    {
     "data": {
      "text/plain": [
       "_StoreAction(option_strings=['-o', '--output'], dest='output', nargs=None, const=None, default=None, type=None, choices=None, help='path to output directory of images', metavar=None)"
      ]
     },
     "execution_count": 22,
     "metadata": {},
     "output_type": "execute_result"
    }
   ],
   "source": [
    "# construct the argument parser and parse the arguments\n",
    "#ap = argparse.ArgumentParser()\n",
    "#ap.add_argument(\"-u\", \"--urls\", required=True, help=\"path to file containing image URLs\")\n",
    "#ap.add_argument(\"-o\", \"--output\", required=True, help=\"path to output directory of images\")\n",
    "#args = vars(ap.parse_args())"
   ]
  },
  {
   "cell_type": "code",
   "execution_count": null,
   "metadata": {},
   "outputs": [],
   "source": []
  },
  {
   "cell_type": "code",
   "execution_count": 25,
   "metadata": {},
   "outputs": [],
   "source": [
    "# grab the list of URLs from the input file, then initialize the\n",
    "# total number of images downloaded thus far\n",
    "#rows = open(args[\"urls\"]).read().strip().split(\"\\n\")\n",
    "rows = open('urls.txt').read().strip().split('\\n')\n",
    "total = 0"
   ]
  },
  {
   "cell_type": "code",
   "execution_count": 31,
   "metadata": {},
   "outputs": [
    {
     "name": "stdout",
     "output_type": "stream",
     "text": [
      "[INFO] downloaded: output/00000010.jpg\n",
      "[INFO] downloaded: output/00000011.jpg\n",
      "[INFO] downloaded: output/00000012.jpg\n",
      "[INFO] downloaded: output/00000013.jpg\n",
      "[INFO] downloaded: output/00000014.jpg\n",
      "[INFO] downloaded: output/00000015.jpg\n",
      "[INFO] downloaded: output/00000016.jpg\n",
      "[INFO] downloaded: output/00000017.jpg\n",
      "[INFO] downloaded: output/00000018.jpg\n",
      "[INFO] downloaded: output/00000019.jpg\n"
     ]
    }
   ],
   "source": [
    "# loop the URLs\n",
    "for url in rows:\n",
    "\ttry:\n",
    "\t\t# try to download the image\n",
    "\t\tr = requests.get(url, timeout=60)\n",
    " \n",
    "\t\t# save the image to disk\n",
    "\t\tp = os.path.sep.join([\"output\", \"{}.jpg\".format(\n",
    "\t\t\tstr(total).zfill(8))])\n",
    "\t\tf = open(p, \"wb\")\n",
    "\t\tf.write(r.content)\n",
    "\t\tf.close()\n",
    " \n",
    "\t\t# update the counter\n",
    "\t\tprint(\"[INFO] downloaded: {}\".format(p))\n",
    "\t\ttotal += 1\n",
    "\n",
    "\t# handle if any exceptions are thrown during the download process\n",
    "\texcept:\n",
    "\t\tprint(\"[INFO] error downloading {}...skipping\".format(p))"
   ]
  },
  {
   "cell_type": "code",
   "execution_count": 32,
   "metadata": {},
   "outputs": [
    {
     "name": "stdout",
     "output_type": "stream",
     "text": [
      "[INFO] deleting output/00000017.jpg\n"
     ]
    }
   ],
   "source": [
    "# loop over the image paths we just downloaded\n",
    "for imagePath in paths.list_images(\"output\"):\n",
    "\t# initialize if the image should be deleted or not\n",
    "\tdelete = False\n",
    " \n",
    "\t# try to load the image\n",
    "\ttry:\n",
    "\t\timage = cv2.imread(imagePath)\n",
    " \n",
    "\t\t# if the image is `None` then we could not properly load it\n",
    "\t\t# from disk, so delete it\n",
    "\t\tif image is None:\n",
    "\t\t\tdelete = True\n",
    " \n",
    "\t# if OpenCV cannot load the image then the image is likely\n",
    "\t# corrupt so we should delete it\n",
    "\texcept:\n",
    "\t\tprint(\"Except\")\n",
    "\t\tdelete = True\n",
    " \n",
    "\t# check to see if the image should be deleted\n",
    "\tif delete:\n",
    "\t\tprint(\"[INFO] deleting {}\".format(imagePath))\n",
    "\t\tos.remove(imagePath)"
   ]
  },
  {
   "cell_type": "code",
   "execution_count": null,
   "metadata": {},
   "outputs": [],
   "source": []
  }
 ],
 "metadata": {
  "kernelspec": {
   "display_name": "Python 3",
   "language": "python",
   "name": "python3"
  },
  "language_info": {
   "codemirror_mode": {
    "name": "ipython",
    "version": 3
   },
   "file_extension": ".py",
   "mimetype": "text/x-python",
   "name": "python",
   "nbconvert_exporter": "python",
   "pygments_lexer": "ipython3",
   "version": "3.6.4"
  }
 },
 "nbformat": 4,
 "nbformat_minor": 2
}
